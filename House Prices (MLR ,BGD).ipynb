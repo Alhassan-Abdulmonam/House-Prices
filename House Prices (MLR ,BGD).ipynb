{
 "cells": [
  {
   "cell_type": "markdown",
   "id": "30d2710b",
   "metadata": {},
   "source": [
    "* Import necessary libraries"
   ]
  },
  {
   "cell_type": "code",
   "execution_count": 1,
   "id": "2217f37c",
   "metadata": {},
   "outputs": [],
   "source": [
    "import numpy as np\n",
    "import pandas as pd\n",
    "import matplotlib.pyplot as plt"
   ]
  },
  {
   "cell_type": "markdown",
   "id": "c389af9a",
   "metadata": {},
   "source": [
    "# Load the data file"
   ]
  },
  {
   "cell_type": "code",
   "execution_count": 2,
   "id": "2b2bc8c3",
   "metadata": {},
   "outputs": [],
   "source": [
    "df = pd.read_csv('HousePrices2.csv')"
   ]
  },
  {
   "cell_type": "markdown",
   "id": "581cf0be",
   "metadata": {},
   "source": [
    "# EDA (Exploratory Data Analysis)"
   ]
  },
  {
   "cell_type": "code",
   "execution_count": 3,
   "id": "66858b88",
   "metadata": {},
   "outputs": [
    {
     "name": "stdout",
     "output_type": "stream",
     "text": [
      "<class 'pandas.core.frame.DataFrame'>\n",
      "RangeIndex: 2044 entries, 0 to 2043\n",
      "Data columns (total 4 columns):\n",
      " #   Column      Non-Null Count  Dtype\n",
      "---  ------      --------------  -----\n",
      " 0   House Area  2044 non-null   int64\n",
      " 1   Rooms       2044 non-null   int64\n",
      " 2   floor       2044 non-null   int64\n",
      " 3   price       2044 non-null   int64\n",
      "dtypes: int64(4)\n",
      "memory usage: 64.0 KB\n"
     ]
    }
   ],
   "source": [
    "df.info()"
   ]
  },
  {
   "cell_type": "code",
   "execution_count": 4,
   "id": "bbb4c81d",
   "metadata": {},
   "outputs": [
    {
     "data": {
      "text/plain": [
       "(2044, 4)"
      ]
     },
     "execution_count": 4,
     "metadata": {},
     "output_type": "execute_result"
    }
   ],
   "source": [
    "df.shape"
   ]
  },
  {
   "cell_type": "code",
   "execution_count": 5,
   "id": "04728309",
   "metadata": {},
   "outputs": [
    {
     "data": {
      "text/plain": [
       "Index(['House Area', 'Rooms', 'floor', 'price'], dtype='object')"
      ]
     },
     "execution_count": 5,
     "metadata": {},
     "output_type": "execute_result"
    }
   ],
   "source": [
    "df.columns"
   ]
  },
  {
   "cell_type": "code",
   "execution_count": 6,
   "id": "8726b24f",
   "metadata": {},
   "outputs": [
    {
     "data": {
      "text/html": [
       "<div>\n",
       "<style scoped>\n",
       "    .dataframe tbody tr th:only-of-type {\n",
       "        vertical-align: middle;\n",
       "    }\n",
       "\n",
       "    .dataframe tbody tr th {\n",
       "        vertical-align: top;\n",
       "    }\n",
       "\n",
       "    .dataframe thead th {\n",
       "        text-align: right;\n",
       "    }\n",
       "</style>\n",
       "<table border=\"1\" class=\"dataframe\">\n",
       "  <thead>\n",
       "    <tr style=\"text-align: right;\">\n",
       "      <th></th>\n",
       "      <th>House Area</th>\n",
       "      <th>Rooms</th>\n",
       "      <th>floor</th>\n",
       "      <th>price</th>\n",
       "    </tr>\n",
       "  </thead>\n",
       "  <tbody>\n",
       "    <tr>\n",
       "      <th>0</th>\n",
       "      <td>225</td>\n",
       "      <td>3</td>\n",
       "      <td>4</td>\n",
       "      <td>902400</td>\n",
       "    </tr>\n",
       "    <tr>\n",
       "      <th>1</th>\n",
       "      <td>287</td>\n",
       "      <td>3</td>\n",
       "      <td>3</td>\n",
       "      <td>1149800</td>\n",
       "    </tr>\n",
       "  </tbody>\n",
       "</table>\n",
       "</div>"
      ],
      "text/plain": [
       "   House Area  Rooms  floor    price\n",
       "0         225      3      4   902400\n",
       "1         287      3      3  1149800"
      ]
     },
     "execution_count": 6,
     "metadata": {},
     "output_type": "execute_result"
    }
   ],
   "source": [
    "df.head(2)"
   ]
  },
  {
   "cell_type": "code",
   "execution_count": 7,
   "id": "342d44e1",
   "metadata": {},
   "outputs": [
    {
     "data": {
      "text/html": [
       "<div>\n",
       "<style scoped>\n",
       "    .dataframe tbody tr th:only-of-type {\n",
       "        vertical-align: middle;\n",
       "    }\n",
       "\n",
       "    .dataframe tbody tr th {\n",
       "        vertical-align: top;\n",
       "    }\n",
       "\n",
       "    .dataframe thead th {\n",
       "        text-align: right;\n",
       "    }\n",
       "</style>\n",
       "<table border=\"1\" class=\"dataframe\">\n",
       "  <thead>\n",
       "    <tr style=\"text-align: right;\">\n",
       "      <th></th>\n",
       "      <th>House Area</th>\n",
       "      <th>Rooms</th>\n",
       "      <th>floor</th>\n",
       "      <th>price</th>\n",
       "    </tr>\n",
       "  </thead>\n",
       "  <tbody>\n",
       "    <tr>\n",
       "      <th>House Area</th>\n",
       "      <td>1.000000</td>\n",
       "      <td>0.940285</td>\n",
       "      <td>0.007069</td>\n",
       "      <td>0.999997</td>\n",
       "    </tr>\n",
       "    <tr>\n",
       "      <th>Rooms</th>\n",
       "      <td>0.940285</td>\n",
       "      <td>1.000000</td>\n",
       "      <td>-0.008583</td>\n",
       "      <td>0.940413</td>\n",
       "    </tr>\n",
       "    <tr>\n",
       "      <th>floor</th>\n",
       "      <td>0.007069</td>\n",
       "      <td>-0.008583</td>\n",
       "      <td>1.000000</td>\n",
       "      <td>0.009513</td>\n",
       "    </tr>\n",
       "    <tr>\n",
       "      <th>price</th>\n",
       "      <td>0.999997</td>\n",
       "      <td>0.940413</td>\n",
       "      <td>0.009513</td>\n",
       "      <td>1.000000</td>\n",
       "    </tr>\n",
       "  </tbody>\n",
       "</table>\n",
       "</div>"
      ],
      "text/plain": [
       "            House Area     Rooms     floor     price\n",
       "House Area    1.000000  0.940285  0.007069  0.999997\n",
       "Rooms         0.940285  1.000000 -0.008583  0.940413\n",
       "floor         0.007069 -0.008583  1.000000  0.009513\n",
       "price         0.999997  0.940413  0.009513  1.000000"
      ]
     },
     "execution_count": 7,
     "metadata": {},
     "output_type": "execute_result"
    }
   ],
   "source": [
    "df.corr()"
   ]
  },
  {
   "cell_type": "markdown",
   "id": "a5edc1f9",
   "metadata": {},
   "source": [
    "* Visualize the data"
   ]
  },
  {
   "cell_type": "code",
   "execution_count": 8,
   "id": "6ed6a54f",
   "metadata": {},
   "outputs": [
    {
     "data": {
      "image/png": "[encoded data removed]",
      "text/plain": [
       "<Figure size 640x480 with 1 Axes>"
      ]
     },
     "metadata": {},
     "output_type": "display_data"
    }
   ],
   "source": [
    "plt.scatter(df['House Area'], df['price'])\n",
    "plt.xlabel(\"Area of houses\")\n",
    "plt.ylabel(\"Price of houses\")\n",
    "plt.title(\"Houses Prices\")\n",
    "plt.show()"
   ]
  },
  {
   "cell_type": "code",
   "execution_count": 9,
   "id": "4df6470d",
   "metadata": {},
   "outputs": [
    {
     "data": {
      "image/png": "[encoded data removed]",
      "text/plain": [
       "<Figure size 640x480 with 1 Axes>"
      ]
     },
     "metadata": {},
     "output_type": "display_data"
    }
   ],
   "source": [
    "plt.scatter(df['Rooms'], df['price'])\n",
    "plt.xlabel(\"Area of houses\")\n",
    "plt.ylabel(\"Price of houses\")\n",
    "plt.title(\"Houses Prices\")\n",
    "plt.show()"
   ]
  },
  {
   "cell_type": "code",
   "execution_count": 10,
   "id": "b50f7c5b",
   "metadata": {},
   "outputs": [
    {
     "data": {
      "image/png": "[encoded data removed]",
      "text/plain": [
       "<Figure size 640x480 with 1 Axes>"
      ]
     },
     "metadata": {},
     "output_type": "display_data"
    }
   ],
   "source": [
    "plt.scatter(df['floor'], df['price'])\n",
    "plt.xlabel(\"Area of houses\")\n",
    "plt.ylabel(\"Price of houses\")\n",
    "plt.title(\"Houses Prices\")\n",
    "plt.show()"
   ]
  },
  {
   "cell_type": "markdown",
   "id": "7b03422f",
   "metadata": {},
   "source": [
    "* EDA Summary"
   ]
  },
  {
   "cell_type": "markdown",
   "id": "78d946b7",
   "metadata": {},
   "source": [
    "1. We are dealing with **clean data**, so don't worry."
   ]
  },
  {
   "cell_type": "markdown",
   "id": "ee246426",
   "metadata": {},
   "source": [
    "# Prepare your Data"
   ]
  },
  {
   "cell_type": "markdown",
   "id": "c45be208",
   "metadata": {},
   "source": [
    "* Extract the feature and the target"
   ]
  },
  {
   "cell_type": "code",
   "execution_count": 11,
   "id": "15a43a42",
   "metadata": {},
   "outputs": [],
   "source": [
    "features =['House Area', 'Rooms', 'floor']\n",
    "target = ['price']\n",
    "X = df[features]\n",
    "y = df[target]"
   ]
  },
  {
   "cell_type": "markdown",
   "id": "84376fe6",
   "metadata": {},
   "source": [
    "* Normalize the feature"
   ]
  },
  {
   "cell_type": "code",
   "execution_count": 12,
   "id": "1fb68ef7",
   "metadata": {},
   "outputs": [],
   "source": [
    "X = (X - np.mean(X, axis=0)) / np.std(X, axis=0)"
   ]
  },
  {
   "cell_type": "code",
   "execution_count": 13,
   "id": "cf5e979b",
   "metadata": {},
   "outputs": [],
   "source": [
    "X = np.array(X)"
   ]
  },
  {
   "cell_type": "code",
   "execution_count": 14,
   "id": "74ce2672",
   "metadata": {},
   "outputs": [
    {
     "data": {
      "text/plain": [
       "array([[-0.3245633 , -0.02812839,  0.75496216],\n",
       "       [ 0.39479131, -0.02812839,  0.04318049],\n",
       "       [-1.2527628 , -1.25141418,  0.75496216],\n",
       "       ...,\n",
       "       [-0.73065058, -1.25141418, -0.66860117],\n",
       "       [-0.48699822, -0.02812839, -1.38038284],\n",
       "       [ 1.26497835,  1.19515739,  0.04318049]])"
      ]
     },
     "execution_count": 14,
     "metadata": {},
     "output_type": "execute_result"
    }
   ],
   "source": [
    "X"
   ]
  },
  {
   "cell_type": "code",
   "execution_count": 15,
   "id": "6f03e24c",
   "metadata": {},
   "outputs": [],
   "source": [
    "X = df.iloc[: , :-1].values\n",
    "y = df.iloc[: , -1].values "
   ]
  },
  {
   "cell_type": "code",
   "execution_count": 16,
   "id": "4e6c6716",
   "metadata": {},
   "outputs": [],
   "source": [
    "X = (X - np.mean(X, axis=0)) / np.std(X, axis=0)"
   ]
  },
  {
   "cell_type": "markdown",
   "id": "a82abd3c",
   "metadata": {},
   "source": [
    "### Add a column of ones for the intercept term"
   ]
  },
  {
   "cell_type": "code",
   "execution_count": 17,
   "id": "d809e8ad",
   "metadata": {},
   "outputs": [],
   "source": [
    "X = np.column_stack((np.ones(len(X)), X))"
   ]
  },
  {
   "cell_type": "markdown",
   "id": "e84b4699",
   "metadata": {},
   "source": [
    "### Initialize parameters"
   ]
  },
  {
   "cell_type": "markdown",
   "id": "492e27f1",
   "metadata": {},
   "source": [
    "#### Define 4 theta in one matrix (theta0 = 0, theta1 = 0, theta2 =0, theta3 = 0 ) "
   ]
  },
  {
   "cell_type": "code",
   "execution_count": 18,
   "id": "1a7a4ece",
   "metadata": {},
   "outputs": [],
   "source": [
    "theta = np.zeros(X.shape[1])"
   ]
  },
  {
   "cell_type": "code",
   "execution_count": 19,
   "id": "662dba5f",
   "metadata": {},
   "outputs": [
    {
     "data": {
      "text/plain": [
       "array([0., 0., 0., 0.])"
      ]
     },
     "execution_count": 19,
     "metadata": {},
     "output_type": "execute_result"
    }
   ],
   "source": [
    "theta"
   ]
  },
  {
   "cell_type": "markdown",
   "id": "bb76883f",
   "metadata": {},
   "source": [
    "### Create a hypothesis function to Multiply theatas in Features to create predicted term in equation\n",
    "* theat0 * 1 + theat1 * x1 + theat2 * x2 + theat3 * x3 "
   ]
  },
  {
   "cell_type": "code",
   "execution_count": 20,
   "id": "7095ca74",
   "metadata": {},
   "outputs": [],
   "source": [
    "def hypothesis(X, theta):\n",
    "    return np.dot(X, theta)"
   ]
  },
  {
   "cell_type": "code",
   "execution_count": 21,
   "id": "432b4104",
   "metadata": {},
   "outputs": [],
   "source": [
    "k=hypothesis(X,theta)"
   ]
  },
  {
   "cell_type": "code",
   "execution_count": 22,
   "id": "6ec8d28e",
   "metadata": {},
   "outputs": [
    {
     "data": {
      "text/plain": [
       "(2044,)"
      ]
     },
     "execution_count": 22,
     "metadata": {},
     "output_type": "execute_result"
    }
   ],
   "source": [
    "k.shape"
   ]
  },
  {
   "cell_type": "markdown",
   "id": "e4ed4502",
   "metadata": {},
   "source": [
    "# Split the Data"
   ]
  },
  {
   "cell_type": "code",
   "execution_count": 23,
   "id": "b67b31c4",
   "metadata": {},
   "outputs": [],
   "source": [
    "train_size = int(0.6 * len(X))\n",
    "eval_size = int(0.20 * len(X))\n",
    "test_size = len(X) - train_size - eval_size"
   ]
  },
  {
   "cell_type": "markdown",
   "id": "d9943f53",
   "metadata": {},
   "source": [
    "* Shuffle the data"
   ]
  },
  {
   "cell_type": "code",
   "execution_count": 24,
   "id": "6751db8e",
   "metadata": {},
   "outputs": [],
   "source": [
    "df = df.sample(frac=1, random_state=42)"
   ]
  },
  {
   "cell_type": "code",
   "execution_count": 25,
   "id": "068b1b13",
   "metadata": {},
   "outputs": [],
   "source": [
    "# Shuffle the data\n",
    "df = df.sample(frac=1, random_state=42)\n",
    "# Split the data\n",
    "x_train = X[:train_size]\n",
    "y_train = y[:train_size]\n",
    "\n",
    "x_eval = X[train_size:train_size+eval_size]\n",
    "y_eval = y[train_size:train_size+eval_size]\n",
    "\n",
    "x_test = X[train_size+eval_size:]\n",
    "y_test = y[train_size+eval_size:]"
   ]
  },
  {
   "cell_type": "code",
   "execution_count": 26,
   "id": "680d0616",
   "metadata": {},
   "outputs": [
    {
     "name": "stdout",
     "output_type": "stream",
     "text": [
      "(1226, 4)\n"
     ]
    }
   ],
   "source": [
    "x_train = X[:train_size]\n",
    "print(x_train.shape)"
   ]
  },
  {
   "cell_type": "code",
   "execution_count": 27,
   "id": "f534511d",
   "metadata": {},
   "outputs": [
    {
     "data": {
      "text/plain": [
       "(410,)"
      ]
     },
     "execution_count": 27,
     "metadata": {},
     "output_type": "execute_result"
    }
   ],
   "source": [
    "y_test.shape"
   ]
  },
  {
   "cell_type": "code",
   "execution_count": 28,
   "id": "0082b4f4",
   "metadata": {},
   "outputs": [
    {
     "data": {
      "text/plain": [
       "(408,)"
      ]
     },
     "execution_count": 28,
     "metadata": {},
     "output_type": "execute_result"
    }
   ],
   "source": [
    "y_eval.shape"
   ]
  },
  {
   "cell_type": "markdown",
   "id": "ba88f505",
   "metadata": {},
   "source": [
    "# Write Cost & GD Functions"
   ]
  },
  {
   "cell_type": "markdown",
   "id": "f9a3069b",
   "metadata": {},
   "source": [
    "###  Cost Function To Calculate Root Mean Squared Error (RMSE)"
   ]
  },
  {
   "cell_type": "code",
   "execution_count": 29,
   "id": "432a5616",
   "metadata": {},
   "outputs": [],
   "source": [
    "# Define the cost function (root mean squared error)\n",
    "def cost_function(X, y, theta):\n",
    "    m = len(y)\n",
    "    return np.sqrt((1 / (2 * m)) * np.sum((hypothesis(X, theta) - y) ** 2)) "
   ]
  },
  {
   "cell_type": "markdown",
   "id": "f8bc2f52",
   "metadata": {},
   "source": [
    "### Define Gradient Decent Function"
   ]
  },
  {
   "cell_type": "code",
   "execution_count": 30,
   "id": "c15ebb34",
   "metadata": {},
   "outputs": [],
   "source": [
    "def gradient_descent(X, y, theta, alpha, epochs):\n",
    "    m = len(y)\n",
    "    costs = []\n",
    "    #thetas=[]\n",
    "\n",
    "    for _ in range(epochs):\n",
    "        error = hypothesis(X, theta) - y\n",
    "        gradient = (2 / m) * np.dot(X.T, error)\n",
    "        theta -= alpha * gradient\n",
    "        costs.append(cost_function(X, y, theta))\n",
    "        #print(theta)\n",
    "\n",
    "    return theta, costs"
   ]
  },
  {
   "cell_type": "markdown",
   "id": "cbaa3457",
   "metadata": {},
   "source": [
    "### Calculate the Final Values of thetas"
   ]
  },
  {
   "cell_type": "code",
   "execution_count": 31,
   "id": "dfe8a3f7",
   "metadata": {},
   "outputs": [
    {
     "name": "stdout",
     "output_type": "stream",
     "text": [
      "Learned parameters: [994697.98183191 204911.49389896 139408.19183983   4336.9183575 ]\n"
     ]
    }
   ],
   "source": [
    "# Set hyperparameters\n",
    "learning_rate = 0.01\n",
    "epochs = 200\n",
    "\n",
    "# Run gradient descent\n",
    "theta, costs = gradient_descent(x_train, y_train, theta, learning_rate, epochs)\n",
    "\n",
    "# Print the learned parameters\n",
    "print(\"Learned parameters:\", theta)"
   ]
  },
  {
   "cell_type": "markdown",
   "id": "ee13176b",
   "metadata": {},
   "source": [
    "### Drawing the values of cost Function  after each Iteration "
   ]
  },
  {
   "cell_type": "code",
   "execution_count": 32,
   "id": "8823bd4c",
   "metadata": {},
   "outputs": [
    {
     "data": {
      "text/plain": [
       "[<matplotlib.lines.Line2D at 0x1f1408a88e0>]"
      ]
     },
     "execution_count": 32,
     "metadata": {},
     "output_type": "execute_result"
    },
    {
     "data": {
      "image/png": "[encoded data removed]",
      "text/plain": [
       "<Figure size 640x480 with 1 Axes>"
      ]
     },
     "metadata": {},
     "output_type": "display_data"
    }
   ],
   "source": [
    "plt.plot(range(1,epochs+1),costs)"
   ]
  },
  {
   "cell_type": "code",
   "execution_count": 33,
   "id": "00c5bb55",
   "metadata": {},
   "outputs": [
    {
     "name": "stdout",
     "output_type": "stream",
     "text": [
      "Print the final value of RMSE Based on Trianed Data:  35988.57661874114\n"
     ]
    }
   ],
   "source": [
    "print(\"Print the final value of RMSE Based on Trianed Data: \",costs[-1] )"
   ]
  },
  {
   "cell_type": "code",
   "execution_count": 35,
   "id": "eb1ac8ba",
   "metadata": {},
   "outputs": [
    {
     "name": "stdout",
     "output_type": "stream",
     "text": [
      "Value of Cost Function From Testing Data:  37697.13602655307\n"
     ]
    }
   ],
   "source": [
    "print(\"Value of Cost Function From Testing Data: \", cost_function(x_test, y_test,theta))"
   ]
  },
  {
   "cell_type": "code",
   "execution_count": 36,
   "id": "9c36271c",
   "metadata": {},
   "outputs": [
    {
     "data": {
      "text/plain": [
       "37697.13602655307"
      ]
     },
     "execution_count": 36,
     "metadata": {},
     "output_type": "execute_result"
    }
   ],
   "source": [
    "print(\"Value of Cost Function From Testing Data: \", cost_function(x_test, y_test,theta))"
   ]
  },
  {
   "cell_type": "code",
   "execution_count": 37,
   "id": "da5a1fd0",
   "metadata": {},
   "outputs": [
    {
     "name": "stdout",
     "output_type": "stream",
     "text": [
      "Value of Cost Function From evalutiong Data:  37232.486230253235\n"
     ]
    }
   ],
   "source": [
    "print(\"Value of Cost Function From evalutiong Data: \", cost_function(x_eval, y_eval,theta))"
   ]
  },
  {
   "cell_type": "markdown",
   "id": "29afdbb1",
   "metadata": {},
   "source": [
    "##### Calculate values y_predict Fram Testing Data\n"
   ]
  },
  {
   "cell_type": "code",
   "execution_count": 40,
   "id": "0bf41c16",
   "metadata": {},
   "outputs": [],
   "source": [
    "y_predict = hypothesis(x_test, theta)"
   ]
  },
  {
   "cell_type": "markdown",
   "id": "7538f4ea",
   "metadata": {},
   "source": [
    "###  Evaluate the model on the evaluation set"
   ]
  },
  {
   "cell_type": "code",
   "execution_count": 41,
   "id": "4172fc3d",
   "metadata": {},
   "outputs": [],
   "source": [
    "Evalute_predict = np.dot(x_eval, theta)\n",
    "eval_errors = Evalute_predict - y_eval\n",
    "rmse_eval = np.sqrt(np.mean(eval_errors**2))"
   ]
  },
  {
   "cell_type": "code",
   "execution_count": 42,
   "id": "ba5993f7",
   "metadata": {},
   "outputs": [
    {
     "name": "stdout",
     "output_type": "stream",
     "text": [
      "RMSE on the evaluation set: 52654.68698769364\n"
     ]
    }
   ],
   "source": [
    "print(\"RMSE on the evaluation set:\", rmse_eval )"
   ]
  },
  {
   "cell_type": "markdown",
   "id": "4bd4d6cd",
   "metadata": {},
   "source": [
    "### Evaluate the model on the test set"
   ]
  },
  {
   "cell_type": "code",
   "execution_count": 43,
   "id": "dc2de455",
   "metadata": {},
   "outputs": [],
   "source": [
    "test_predict = np.dot(x_test, theta)\n",
    "test_errors = test_predict - y_test\n",
    "rmse_test = np.sqrt(np.mean(test_errors**2))"
   ]
  },
  {
   "cell_type": "code",
   "execution_count": 44,
   "id": "83996be3",
   "metadata": {},
   "outputs": [
    {
     "name": "stdout",
     "output_type": "stream",
     "text": [
      "RMSE on the test set: 53311.80103137476\n"
     ]
    }
   ],
   "source": [
    "print(\"RMSE on the test set:\", rmse_test)"
   ]
  },
  {
   "cell_type": "markdown",
   "id": "77686b75",
   "metadata": {},
   "source": [
    "# -------------------------** Thanks **-------------------------"
   ]
  },
  {
   "cell_type": "code",
   "execution_count": null,
   "id": "bb52f727",
   "metadata": {},
   "outputs": [],
   "source": []
  }
 ],
 "metadata": {
  "kernelspec": {
   "display_name": "Python 3 (ipykernel)",
   "language": "python",
   "name": "python3"
  },
  "language_info": {
   "codemirror_mode": {
    "name": "ipython",
    "version": 3
   },
   "file_extension": ".py",
   "mimetype": "text/x-python",
   "name": "python",
   "nbconvert_exporter": "python",
   "pygments_lexer": "ipython3",
   "version": "3.10.9"
  }
 },
 "nbformat": 4,
 "nbformat_minor": 5
}
